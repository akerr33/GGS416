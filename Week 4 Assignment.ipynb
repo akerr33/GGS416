{
 "cells": [
  {
   "cell_type": "code",
   "execution_count": 42,
   "id": "7a50f804",
   "metadata": {},
   "outputs": [
    {
     "name": "stdout",
     "output_type": "stream",
     "text": [
      "C:\\Users\\KerrF\\Documents\\Adam\\School\\GMU\\GGS416\\w4\n"
     ]
    }
   ],
   "source": [
    "import os\n",
    "\n",
    "## getcwd stands for 'get current working directory'\n",
    "current_dir = os.getcwd()\n",
    "\n",
    "print(current_dir) "
   ]
  },
  {
   "cell_type": "code",
   "execution_count": 43,
   "id": "ee5b7dd8",
   "metadata": {},
   "outputs": [
    {
     "name": "stdout",
     "output_type": "stream",
     "text": [
      "C:\\Users\\KerrF\\Documents\\Adam\\School\\GMU\\GGS416\\w4/polygon1.shp\n"
     ]
    }
   ],
   "source": [
    "current_dir = os.getcwd()\n",
    "\n",
    "## adding the shaoe file to the path\n",
    "path = current_dir + '/polygon1.shp'\n",
    "\n",
    "print(path)  "
   ]
  },
  {
   "cell_type": "code",
   "execution_count": 44,
   "id": "3510087e",
   "metadata": {},
   "outputs": [
    {
     "name": "stdout",
     "output_type": "stream",
     "text": [
      "   FID                                           geometry\n",
      "0    0  POLYGON ((-77.50000 38.98000, -77.40000 38.980...\n"
     ]
    }
   ],
   "source": [
    "import geopandas as gpd\n",
    "\n",
    "# import geopandas and loading the file as the variable named dulles\n",
    "dulles = gpd.read_file(path, crs='epsg:4326')\n",
    "print(dulles)"
   ]
  },
  {
   "cell_type": "code",
   "execution_count": 45,
   "id": "8ab53505",
   "metadata": {},
   "outputs": [
    {
     "name": "stdout",
     "output_type": "stream",
     "text": [
      "   FID                                           geometry\n",
      "0    0  POLYGON ((-8627260.536 4718807.149, -8616128.5...\n"
     ]
    }
   ],
   "source": [
    "# The previous crs is in decimel degrees (epsg:4326), changing to meters ('epsg:3857')\n",
    "dulles = dulles.to_crs('epsg:3857')\n",
    "print(dulles)"
   ]
  },
  {
   "cell_type": "code",
   "execution_count": 46,
   "id": "c23bbd61",
   "metadata": {},
   "outputs": [
    {
     "name": "stdout",
     "output_type": "stream",
     "text": [
      "   FID                                           geometry          area\n",
      "0    0  POLYGON ((-8627260.536 4718807.149, -8616128.5...  1.274565e+08\n"
     ]
    }
   ],
   "source": [
    "# Due to the current crs, the area will be in square meters\n",
    "dulles['area'] = dulles['geometry'].area \n",
    "print(dulles)"
   ]
  },
  {
   "cell_type": "code",
   "execution_count": 52,
   "id": "bd694ca0",
   "metadata": {},
   "outputs": [
    {
     "data": {
      "text/plain": [
       "<AxesSubplot:>"
      ]
     },
     "execution_count": 52,
     "metadata": {},
     "output_type": "execute_result"
    },
    {
     "data": {
      "image/png": "[encoded data removed]",
      "text/plain": [
       "<Figure size 640x480 with 1 Axes>"
      ]
     },
     "metadata": {},
     "output_type": "display_data"
    }
   ],
   "source": [
    "## checking to see what it looks like\n",
    "dulles.plot() "
   ]
  },
  {
   "cell_type": "code",
   "execution_count": 60,
   "id": "6fd98d1c",
   "metadata": {},
   "outputs": [
    {
     "name": "stdout",
     "output_type": "stream",
     "text": [
      "0    127.456505\n",
      "Name: area_km2, dtype: float64\n"
     ]
    }
   ],
   "source": [
    "## diving by 10^6 to convert to km2\n",
    "dulles['area_km2'] = dulles['area'] / 1e6\n",
    "print(dulles['area_km2'])\n"
   ]
  },
  {
   "cell_type": "code",
   "execution_count": 62,
   "id": "ad50e975",
   "metadata": {},
   "outputs": [
    {
     "name": "stdout",
     "output_type": "stream",
     "text": [
      "   FID                                           geometry          area  \\\n",
      "0    0  POLYGON ((-8627260.536 4718807.149, -8616128.5...  1.274565e+08   \n",
      "\n",
      "     area_km2  \n",
      "0  127.456505  \n"
     ]
    }
   ],
   "source": [
    "## checking full dataframe structure\n",
    "print(dulles)"
   ]
  },
  {
   "cell_type": "code",
   "execution_count": 63,
   "id": "a6d1caf9",
   "metadata": {},
   "outputs": [
    {
     "name": "stdout",
     "output_type": "stream",
     "text": [
      "(0, FID                                                         0\n",
      "geometry    POLYGON ((-8627260.536478702 4718807.14895028,...\n",
      "area                                         127456505.358023\n",
      "area_km2                                           127.456505\n",
      "Name: 0, dtype: object)\n"
     ]
    }
   ],
   "source": [
    "## looping to show rows\n",
    "\n",
    "for row in dulles.iterrows():\n",
    "    print(row)"
   ]
  },
  {
   "cell_type": "code",
   "execution_count": 64,
   "id": "343b748f",
   "metadata": {},
   "outputs": [
    {
     "name": "stdout",
     "output_type": "stream",
     "text": [
      "0\n",
      "\n",
      "\n",
      "FID                                                         0\n",
      "geometry    POLYGON ((-8627260.536478702 4718807.14895028,...\n",
      "area                                         127456505.358023\n",
      "area_km2                                           127.456505\n",
      "Name: 0, dtype: object\n"
     ]
    }
   ],
   "source": [
    "for row in dulles.iterrows():\n",
    "    \n",
    "    ##this will print our row index\n",
    "    print(row[0]) \n",
    "    print('')\n",
    "    print('')\n",
    "    ##this will print our row information\n",
    "    print(row[1])"
   ]
  },
  {
   "cell_type": "code",
   "execution_count": 65,
   "id": "3b223397",
   "metadata": {},
   "outputs": [
    {
     "name": "stdout",
     "output_type": "stream",
     "text": [
      "(0, FID                                                         0\n",
      "geometry    POLYGON ((-8627260.536478702 4718807.14895028,...\n",
      "area                                         127456505.358023\n",
      "area_km2                                           127.456505\n",
      "Name: 0, dtype: object)\n"
     ]
    }
   ],
   "source": [
    "for row in dulles.iterrows():\n",
    "    \n",
    "    ##this will print our row geometry\n",
    "    print(row)"
   ]
  },
  {
   "cell_type": "code",
   "execution_count": 95,
   "id": "489cb417",
   "metadata": {},
   "outputs": [
    {
     "name": "stdout",
     "output_type": "stream",
     "text": [
      "           minx          miny          maxx          maxy\n",
      "0 -8.627261e+06  4.707358e+06 -8.616129e+06  4.718807e+06\n",
      "\n",
      "The area of Dulles Airport is 127.5 square kilometers\n"
     ]
    }
   ],
   "source": [
    "for row in dulles.iterrows():\n",
    "    \n",
    "    ## print the row geometry\n",
    "    area_km2 = (row[1]['geometry'].area / 1e6)\n",
    "    \n",
    "    ## rounding area to 1 decimal place\n",
    "    area_km2 = round(area_km2, 1)\n",
    "       \n",
    "    ## print the boundaries of the polygon and write out the area of airport\n",
    "    bounds = dulles.bounds\n",
    "    print(bounds)\n",
    "    print('')\n",
    "    print(\"The area of Dulles Airport is {} square kilometers\".format(area_km2))"
   ]
  },
  {
   "cell_type": "code",
   "execution_count": 82,
   "id": "ffbb51ff",
   "metadata": {},
   "outputs": [
    {
     "name": "stdout",
     "output_type": "stream",
     "text": [
      "           minx          miny          maxx          maxy\n",
      "0 -8.627261e+06  4.707358e+06 -8.616129e+06  4.718807e+06\n"
     ]
    }
   ],
   "source": [
    "## shows max and min of polygon in x and y\n",
    "bounds = dulles.bounds\n",
    "print(bounds)"
   ]
  },
  {
   "cell_type": "code",
   "execution_count": 96,
   "id": "d2cf0c30",
   "metadata": {},
   "outputs": [],
   "source": [
    "## set exterior coordinates\n",
    "exterior = [(-8.627261e+06, 4.707358e+06), (-8.627261e+06, 4.718807e+06), (-8.616129e+06, 4.718807e+06), \n",
    "            (-8.616129e+06, 4.707358e+06), (-8.627261e+06, 4.707358e+06)]"
   ]
  },
  {
   "cell_type": "code",
   "execution_count": 105,
   "id": "2bf49f70",
   "metadata": {},
   "outputs": [
    {
     "data": {
      "image/svg+xml": [
       "<svg xmlns=\"http://www.w3.org/2000/svg\" xmlns:xlink=\"http://www.w3.org/1999/xlink\" width=\"300\" height=\"300\" viewBox=\"-8627718.96 4706900.04 12047.920000001788 12364.919999999925\" preserveAspectRatio=\"xMinYMin meet\"><g transform=\"matrix(1,0,0,-1,0,9426165.0)\"><path fill-rule=\"evenodd\" fill=\"#66cc99\" stroke=\"#555555\" stroke-width=\"82.4327999999995\" opacity=\"0.6\" d=\"M -8627261.0,4707358.0 L -8627261.0,4718807.0 L -8616129.0,4718807.0 L -8616129.0,4707358.0 L -8627261.0,4707358.0 z\" /></g></svg>"
      ],
      "text/plain": [
       "<shapely.geometry.polygon.Polygon at 0x20a0a7ac280>"
      ]
     },
     "execution_count": 105,
     "metadata": {},
     "output_type": "execute_result"
    }
   ],
   "source": [
    "## import polygon with the exterior coordinates\n",
    "from shapely.geometry import Polygon \n",
    "polyD = Polygon([(-8.627261e+06, 4.707358e+06), (-8.627261e+06, 4.718807e+06), (-8.616129e+06, 4.718807e+06), \n",
    "            (-8.616129e+06, 4.707358e+06), (-8.627261e+06, 4.707358e+06)])\n",
    "polyD ## confirm it is working"
   ]
  },
  {
   "cell_type": "code",
   "execution_count": 112,
   "id": "b08870b7",
   "metadata": {},
   "outputs": [
    {
     "data": {
      "text/plain": [
       "[(-8627261.0, 4707358.0),\n",
       " (-8627261.0, 4718807.0),\n",
       " (-8616129.0, 4718807.0),\n",
       " (-8616129.0, 4707358.0),\n",
       " (-8627261.0, 4707358.0)]"
      ]
     },
     "execution_count": 112,
     "metadata": {},
     "output_type": "execute_result"
    }
   ],
   "source": [
    "#a list of exterior coordinate tuples\n",
    "list(polyD.exterior.coords) "
   ]
  },
  {
   "cell_type": "code",
   "execution_count": 109,
   "id": "15b72dca",
   "metadata": {},
   "outputs": [
    {
     "data": {
      "text/plain": [
       "'Polygon'"
      ]
     },
     "execution_count": 109,
     "metadata": {},
     "output_type": "execute_result"
    }
   ],
   "source": [
    "# confirm polygon type is working\n",
    "polyD.geom_type"
   ]
  },
  {
   "cell_type": "code",
   "execution_count": null,
   "id": "1e80c526",
   "metadata": {},
   "outputs": [],
   "source": []
  }
 ],
 "metadata": {
  "kernelspec": {
   "display_name": "Python 3 (ipykernel)",
   "language": "python",
   "name": "python3"
  },
  "language_info": {
   "codemirror_mode": {
    "name": "ipython",
    "version": 3
   },
   "file_extension": ".py",
   "mimetype": "text/x-python",
   "name": "python",
   "nbconvert_exporter": "python",
   "pygments_lexer": "ipython3",
   "version": "3.9.13"
  }
 },
 "nbformat": 4,
 "nbformat_minor": 5
}
